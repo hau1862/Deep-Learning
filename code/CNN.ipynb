{
 "cells": [
  {
   "cell_type": "markdown",
   "metadata": {},
   "source": [
    "# Import"
   ]
  },
  {
   "cell_type": "code",
   "execution_count": 2,
   "metadata": {},
   "outputs": [],
   "source": [
    "import os\n",
    "import time\n",
    "import math\n",
    "import matplotlib.pyplot as plt\n",
    "import pandas as pd\n",
    "import numpy as np\n",
    "from PIL import Image\n",
    "from sklearn.metrics import mean_squared_error"
   ]
  },
  {
   "cell_type": "code",
   "execution_count": 3,
   "metadata": {},
   "outputs": [],
   "source": [
    "import torch\n",
    "from torch import nn\n",
    "import torch.nn.functional as F\n",
    "from torchvision import transforms\n",
    "from torch.utils.data import DataLoader, random_split\n",
    "import pytorch_lightning as pl\n",
    "from torchviz import make_dot"
   ]
  },
  {
   "cell_type": "code",
   "execution_count": 4,
   "metadata": {},
   "outputs": [],
   "source": [
    "root_dir = \"../\""
   ]
  },
  {
   "cell_type": "markdown",
   "metadata": {},
   "source": [
    "# Data"
   ]
  },
  {
   "cell_type": "markdown",
   "metadata": {},
   "source": [
    "### StockChartDataset"
   ]
  },
  {
   "cell_type": "code",
   "execution_count": 46,
   "metadata": {},
   "outputs": [],
   "source": [
    "class StockChartDataset(object):\n",
    "    def __init__(self, dir_path, transforms):\n",
    "        self.dir_path = dir_path\n",
    "        self.transforms = transforms\n",
    "        df = pd.read_csv(dir_path + 'target.csv')\n",
    "        self.imgs = df.filename.tolist()\n",
    "        self.log_target = df.target.tolist()\n",
    "\n",
    "    def __getitem__(self, idx):\n",
    "        # Load images\n",
    "        img_path = os.path.join(self.dir_path, self.imgs[idx])\n",
    "        img = Image.open(img_path).convert('RGB')\n",
    "        \n",
    "        target = torch.tensor([self.log_target[idx]])\n",
    "\n",
    "        if self.transforms is not None:\n",
    "            img = self.transforms(img)\n",
    "\n",
    "        return img, target\n",
    "\n",
    "    def __len__(self):\n",
    "        return len(self.imgs)"
   ]
  },
  {
   "cell_type": "markdown",
   "metadata": {},
   "source": [
    "### StockChartDataModule"
   ]
  },
  {
   "cell_type": "code",
   "execution_count": 47,
   "metadata": {},
   "outputs": [],
   "source": [
    "class StockChartDataModule(pl.LightningDataModule):\n",
    "    def setup(self, stage):\n",
    "        # transforms for images\n",
    "        transform=transforms.Compose([transforms.ToTensor(), \n",
    "                                      transforms.Normalize((0.5, 0.5, 0.5), (0.5, 0.5, 0.5))])\n",
    "\n",
    "        self.train = StockChartDataset(root_dir + 'data/paper_charts/train/',\n",
    "                                       transforms=transform)\n",
    "        self.val = StockChartDataset(root_dir + 'data/paper_charts/val/',\n",
    "                                     transforms=transform)\n",
    "        self.test = StockChartDataset(root_dir + 'data/paper_charts/test/',\n",
    "                                      transforms=transform)\n",
    "        \n",
    "    def train_dataloader(self):\n",
    "        return DataLoader(self.train, batch_size=64)\n",
    "\n",
    "    def val_dataloader(self):\n",
    "        return DataLoader(self.val, batch_size=64)\n",
    "    \n",
    "    def test_dataloader(self):\n",
    "        return DataLoader(self.test, batch_size=64)"
   ]
  },
  {
   "cell_type": "markdown",
   "metadata": {},
   "source": [
    "# Model"
   ]
  },
  {
   "cell_type": "markdown",
   "metadata": {},
   "source": [
    "### ResidualBlock"
   ]
  },
  {
   "cell_type": "markdown",
   "metadata": {},
   "source": [
    "_Ref: https://phamdinhkhanh.github.io/2020/12/19/Resnet.html_"
   ]
  },
  {
   "cell_type": "code",
   "execution_count": 48,
   "metadata": {},
   "outputs": [],
   "source": [
    "class ResidualBlock(nn.Module):\n",
    "    def __init__(self, num_channels, output_channels, stride1, stride2, stride3, **kwargs):\n",
    "        super(ResidualBlock, self).__init__(**kwargs)\n",
    "        self.cond = any([stride1 != 1, stride2 != 1, stride3 != 1])\n",
    "        self.conv1 = nn.Conv2d(num_channels, num_channels, padding=1, \n",
    "                            kernel_size=3, stride=stride1)\n",
    "        self.batch_norm = nn.BatchNorm2d(num_channels)\n",
    "        self.conv2 = nn.Conv2d(num_channels, num_channels, padding=1, \n",
    "                            kernel_size=3, stride=stride2)\n",
    "        if self.cond:\n",
    "            self.conv = nn.Conv2d(num_channels, num_channels, padding=0,\n",
    "                                kernel_size=1, stride=max(stride1, stride2, stride3))\n",
    "        # Last convolutional layer to reduce output block shape.\n",
    "        self.conv3 = nn.Conv2d(num_channels, output_channels, padding=0, \n",
    "                            kernel_size=1, stride=stride3)\n",
    "        self.relu = nn.ReLU(inplace=True)\n",
    "    \n",
    "    def forward(self, X):\n",
    "        if self.cond:\n",
    "            Y = self.conv(X)\n",
    "        else:\n",
    "            Y = X\n",
    "        X = self.conv1(X)\n",
    "        X = self.batch_norm(X)\n",
    "        X = self.relu(X)\n",
    "        X = self.conv2(X)\n",
    "        X = self.batch_norm(X)\n",
    "        X = self.relu(X+Y)\n",
    "        X = self.conv3(X)\n",
    "        return X"
   ]
  },
  {
   "cell_type": "markdown",
   "metadata": {},
   "source": [
    "### StockChartCNN"
   ]
  },
  {
   "cell_type": "code",
   "execution_count": 49,
   "metadata": {},
   "outputs": [],
   "source": [
    "class StockChartCNN(pl.LightningModule):\n",
    "    def __init__(self, output_shape=1):\n",
    "        super(StockChartCNN, self).__init__()\n",
    "        self.conv = nn.Conv2d(in_channels=3, out_channels=32, kernel_size=7, stride=2, padding=3)\n",
    "        self.batch_norm = nn.BatchNorm2d(32)\n",
    "        self.max_pool = nn.MaxPool2d(kernel_size=3, stride=2, padding=1)\n",
    "        self.relu = nn.ReLU()\n",
    "        self.res_conv1 = ResidualBlock(\n",
    "            num_channels=32, output_channels=128,\n",
    "            stride1=1, stride2=1, stride3=1)\n",
    "        self.res_conv2 = ResidualBlock(\n",
    "            num_channels=128, output_channels=256,\n",
    "            stride1=2, stride2=1, stride3=1)\n",
    "        self.res_conv3 = ResidualBlock(\n",
    "            num_channels=256, output_channels=512,\n",
    "            stride1=2, stride2=1, stride3=1)\n",
    "        self.average_pool = nn.AvgPool2d(kernel_size=7, padding=0)\n",
    "        self.layer_norm = nn.LayerNorm([512, 1, 1])\n",
    "        self.fc1 = nn.Linear(in_features=512, out_features=500)\n",
    "        self.dropout = nn.Dropout(0.5)\n",
    "        self.fc2 = nn.Linear(in_features=500, out_features=100)\n",
    "        self.fc3 = nn.Linear(in_features=100, out_features=25)\n",
    "        self.out = nn.Linear(in_features=25, out_features=output_shape)\n",
    "        \n",
    "    def forward(self, X):\n",
    "        X = self.conv(X)\n",
    "        X = self.batch_norm(X)\n",
    "        X = self.relu(X)\n",
    "        X = self.max_pool(X)\n",
    "        X = self.res_conv1(X)\n",
    "        X = self.res_conv2(X)\n",
    "        X = self.res_conv3(X)\n",
    "        X = self.average_pool(X)\n",
    "        X = self.layer_norm(X)\n",
    "        X = X.view(X.size(0), -1)\n",
    "        X = self.fc1(X)\n",
    "        X = self.dropout(X)\n",
    "        X = self.fc2(X)\n",
    "        X = self.dropout(X)\n",
    "        X = self.fc3(X)\n",
    "        X = self.dropout(X)\n",
    "        X = self.out(X)\n",
    "        return X\n",
    "    \n",
    "    def training_step(self, batch, batch_idx):\n",
    "        # training_step defined the train loop.\n",
    "        # It is independent of forward\n",
    "        x, y = batch\n",
    "        logits = self.forward(x)\n",
    "        loss = F.mse_loss(logits, y)\n",
    "        # Logging to TensorBoard by default\n",
    "        self.log('train_loss', loss)\n",
    "        return loss\n",
    "    \n",
    "    def validation_step(self, batch, batch_idx):\n",
    "        x, y = batch\n",
    "        logits = self.forward(x)\n",
    "        loss = F.mse_loss(logits, y)\n",
    "        # Logging to TensorBoard by default\n",
    "        self.log('val_loss', loss)\n",
    "        return loss\n",
    "    \n",
    "    def configure_optimizers(self):\n",
    "        optimizer = torch.optim.SGD(self.parameters(), lr=0.01, momentum=0.9)\n",
    "        return optimizer"
   ]
  },
  {
   "cell_type": "markdown",
   "metadata": {},
   "source": [
    "# Trainer"
   ]
  },
  {
   "cell_type": "code",
   "execution_count": 50,
   "metadata": {},
   "outputs": [],
   "source": [
    "checkpoint_callback = pl.callbacks.ModelCheckpoint(\n",
    "    monitor='val_loss',\n",
    "    dirpath='model/',\n",
    "    filename='cnn-1226-{epoch:02d}-{val_loss:.9f}',\n",
    "    save_top_k=5,\n",
    "    mode='min',\n",
    ")"
   ]
  },
  {
   "cell_type": "code",
   "execution_count": 51,
   "metadata": {},
   "outputs": [],
   "source": [
    "data_module = StockChartDataModule()\n",
    "model = StockChartCNN()\n",
    "model"
   ]
  },
  {
   "cell_type": "code",
   "execution_count": null,
   "metadata": {},
   "outputs": [],
   "source": [
    "trainer = pl.Trainer(gpus=1, max_epochs=10, callbacks=[checkpoint_callback])\n",
    "\n",
    "trainer.fit(model, data_module)"
   ]
  },
  {
   "cell_type": "markdown",
   "metadata": {},
   "source": [
    "# Plot"
   ]
  },
  {
   "cell_type": "code",
   "execution_count": 41,
   "metadata": {},
   "outputs": [],
   "source": [
    "def plot_price(model, df, path):\n",
    "    # Get predictions\n",
    "    transform=transforms.Compose([transforms.ToTensor(),\n",
    "                                  transforms.Normalize((0.5, 0.5, 0.5), (0.5, 0.5, 0.5))])\n",
    "    dataset = StockChartDataset(path,\n",
    "                                transforms=transform)\n",
    "    dataloader = torch.utils.data.DataLoader(dataset, batch_size=64, shuffle=False, num_workers=2)\n",
    "    predictions = None\n",
    "    for i, batch in enumerate(dataloader):\n",
    "        print(i, end='\\r')\n",
    "        X, y = batch\n",
    "        output = model(X)\n",
    "        if predictions is None:\n",
    "            predictions = output.cpu().detach().numpy()\n",
    "        else:\n",
    "            predictions = np.row_stack([predictions, output.cpu().detach().numpy()])\n",
    "    # Get target price\n",
    "    seq_length = 30\n",
    "    step_length = 5\n",
    "    df['target_log'] = np.log(df['Trade Close'].shift(-step_length) / df['Trade Close'])\n",
    "    length = df.shape[0]\n",
    "    target_price = df[seq_length+step_length:df.shape[0]]['Trade Close']\n",
    "    inv = df[seq_length:df.shape[0]-step_length]['Trade Close'].values.reshape(-1, 1)\n",
    "    predicted_price = inv * (np.exp(1) ** predictions)\n",
    "\n",
    "    # Visualising the results\n",
    "    date = np.arange(seq_length+step_length, df.shape[0])\n",
    "    plt.figure(figsize=(20,10))\n",
    "    plt.plot(date, target_price, color = 'red', label = 'Target Price')\n",
    "    plt.plot(date, predicted_price, color = 'blue', label = 'Predicted Price')\n",
    "    plt.xticks(np.arange(0,len(predicted_price),100))\n",
    "    plt.title(path[-6:-1].upper() + ' SET: SP500 Stock Price Prediction')\n",
    "    plt.xlabel('Time')\n",
    "    plt.ylabel('SP500 Stock Price')\n",
    "    plt.legend()\n",
    "    plt.show()\n",
    "    print(f'RMSE: {mean_squared_error(target_price, predicted_price, squared=False)}')"
   ]
  },
  {
   "cell_type": "code",
   "execution_count": 27,
   "metadata": {},
   "outputs": [
    {
     "data": {
      "text/plain": [
       "((68800, 8), (10000, 8), (19474, 8))"
      ]
     },
     "execution_count": 27,
     "metadata": {},
     "output_type": "execute_result"
    }
   ],
   "source": [
    "df = pd.read_csv(root_dir + 'data/dji_2767.csv')\n",
    "length = df.shape[0]\n",
    "\n",
    "train_end = int(length*0.6)\n",
    "val_end = int(length*0.8)\n",
    "\n",
    "train_df = df[:train_end].copy()\n",
    "train_df.reset_index(inplace=True)\n",
    "\n",
    "val_df = df[train_end:val_end].copy()\n",
    "val_df.reset_index(inplace=True)\n",
    "\n",
    "test_df = df[val_end:].copy()\n",
    "test_df.reset_index(inplace=True)\n",
    "\n",
    "train_df.shape, val_df.shape, test_df.shape"
   ]
  },
  {
   "cell_type": "code",
   "execution_count": 31,
   "metadata": {},
   "outputs": [],
   "source": [
    "trainer.save_checkpoint(root_dir + 'model/cnn-dji-2767.ckpt')"
   ]
  },
  {
   "cell_type": "code",
   "execution_count": 56,
   "metadata": {},
   "outputs": [],
   "source": [
    "model = StockChartCNN.load_from_checkpoint(checkpoint_path=root_dir + 'model/cnn-dji-2767.ckpt')"
   ]
  },
  {
   "cell_type": "code",
   "execution_count": 57,
   "metadata": {},
   "outputs": [],
   "source": [
    "model.to('cpu')"
   ]
  },
  {
   "cell_type": "code",
   "execution_count": null,
   "metadata": {},
   "outputs": [],
   "source": [
    "plot_price(model, train_df, 'data/dji_2767/train/')"
   ]
  },
  {
   "cell_type": "code",
   "execution_count": null,
   "metadata": {},
   "outputs": [],
   "source": [
    "plot_price(model, val_df, 'data/paper_charts/val/')"
   ]
  },
  {
   "cell_type": "code",
   "execution_count": null,
   "metadata": {},
   "outputs": [],
   "source": [
    "plot_price(model, test_df, 'data/paper_charts/test/')"
   ]
  }
 ],
 "metadata": {
  "kernelspec": {
   "display_name": "bundau",
   "language": "python",
   "name": "bundau"
  },
  "language_info": {
   "codemirror_mode": {
    "name": "ipython",
    "version": 3
   },
   "file_extension": ".py",
   "mimetype": "text/x-python",
   "name": "python",
   "nbconvert_exporter": "python",
   "pygments_lexer": "ipython3",
   "version": "3.6.10"
  }
 },
 "nbformat": 4,
 "nbformat_minor": 4
}
